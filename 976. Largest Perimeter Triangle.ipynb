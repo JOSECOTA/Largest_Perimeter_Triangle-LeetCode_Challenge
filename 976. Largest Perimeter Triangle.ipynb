{
 "cells": [
  {
   "cell_type": "code",
   "execution_count": 1,
   "id": "d1171d86",
   "metadata": {},
   "outputs": [],
   "source": [
    "def largestPerimeter(nums):\n",
    "        nums.sort()\n",
    "        for x in range(len(nums)-1,1,-1):\n",
    "            if (nums[x-1]+nums[x-2]>nums[x]):\n",
    "                return (nums[x-1]+nums[x-2]+nums[x])\n",
    "        return 0\n",
    "    \n",
    "\n",
    "        "
   ]
  },
  {
   "cell_type": "code",
   "execution_count": 3,
   "id": "ae57239b",
   "metadata": {},
   "outputs": [
    {
     "data": {
      "text/plain": [
       "0"
      ]
     },
     "execution_count": 3,
     "metadata": {},
     "output_type": "execute_result"
    }
   ],
   "source": [
    "largestPerimeter([1,2,1])"
   ]
  },
  {
   "cell_type": "code",
   "execution_count": null,
   "id": "d48d05c0",
   "metadata": {},
   "outputs": [],
   "source": []
  }
 ],
 "metadata": {
  "kernelspec": {
   "display_name": "Python 3 (ipykernel)",
   "language": "python",
   "name": "python3"
  },
  "language_info": {
   "codemirror_mode": {
    "name": "ipython",
    "version": 3
   },
   "file_extension": ".py",
   "mimetype": "text/x-python",
   "name": "python",
   "nbconvert_exporter": "python",
   "pygments_lexer": "ipython3",
   "version": "3.9.7"
  }
 },
 "nbformat": 4,
 "nbformat_minor": 5
}
